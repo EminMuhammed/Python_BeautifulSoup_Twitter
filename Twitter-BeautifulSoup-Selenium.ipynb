{
 "cells": [
  {
   "cell_type": "code",
   "execution_count": 1,
   "metadata": {},
   "outputs": [],
   "source": [
    "from bs4 import BeautifulSoup\n",
    "import requests\n",
    "from selenium import webdriver\n",
    "from selenium.webdriver.common.keys import Keys\n",
    "import time\n",
    "import csv\n",
    "import pandas as pd"
   ]
  },
  {
   "cell_type": "code",
   "execution_count": 21,
   "metadata": {},
   "outputs": [],
   "source": [
    "\n",
    "def veri_cek():\n",
    "    \n",
    "    sayfa = int(input(\"scroll sayısını girin = \"))\n",
    "\n",
    "    driver_path = \"D:\\PROGRAM SETUP\\chromedriver.exe\"\n",
    "    browser = webdriver.Chrome(driver_path)\n",
    "\n",
    "    browser.get(\"https://www.google.com.tr/\")\n",
    "    yazı_girişi = browser.find_element_by_css_selector(\".gLFyf.gsfi\")\n",
    "    yazı_girişi.send_keys(\"twitter deep learning türkiye\")\n",
    "    time.sleep(2)\n",
    "    yazı_girişi.send_keys(Keys.ENTER)\n",
    "\n",
    "    tıkla = browser.find_element_by_css_selector(\".zTpPx.V7Sr0.p5AXld\")\n",
    "    tıkla.click()\n",
    "    \n",
    "    #\n",
    "    file = open(\"tweetler.csv\",\"w\",encoding=\"utf-8\")\n",
    "    writer = csv.writer(file)\n",
    "    writer.writerow([\"tweetler\",\"begeni_sayisi\",\"yorum_sayisi\",\"retweet_sayisi\"])\n",
    "    \n",
    "    \n",
    "    #\n",
    "    a = 0\n",
    "    while a < sayfa:\n",
    "    #\n",
    "        lastHeight = browser.execute_script(\"return document.body.scrollHeight\")\n",
    "        i=0\n",
    "        while i<1:\n",
    "            browser.execute_script(\"window.scrollTo(0, document.body.scrollHeight);\")\n",
    "            time.sleep(3)\n",
    "            newHeight = browser.execute_script(\"return document.body.scrollHeight\")\n",
    "\n",
    "            if newHeight == lastHeight:\n",
    "                break\n",
    "            else:\n",
    "                lastHeight = newHeight\n",
    "\n",
    "            i = i+1\n",
    "    #\n",
    "\n",
    "\n",
    "\n",
    "        sayfa_kaynağı = browser.page_source\n",
    "        soup = BeautifulSoup(sayfa_kaynağı, \"html.parser\")\n",
    "        tweetler = soup.find_all(\"div\",attrs={\"data-testid\":\"tweet\"})\n",
    "\n",
    "\n",
    "        for i in tweetler:\n",
    "            \n",
    "            try:\n",
    "                \n",
    "                yazı = i.find(\"div\", attrs={\"class\":\"css-901oao r-hkyrab r-1qd0xha r-a023e6 r-16dba41 r-ad9z0x r-bcqeeo r-bnwqim r-qvutc0\"}).text\n",
    "                yorum_sayısı = i.find(\"div\", attrs={\"data-testid\":\"reply\"}).text\n",
    "                retweet_sayısı = i.find(\"div\", attrs={\"data-testid\":\"retweet\"}).text\n",
    "                beğeni_sayısı = i.find(\"div\", attrs={\"data-testid\":\"like\"}).text\n",
    "\n",
    "                writer.writerow([yazı,beğeni_sayısı,yorum_sayısı,retweet_sayısı])\n",
    "            \n",
    "            except:\n",
    "                print(\"**\")\n",
    "        a = a+1\n",
    "\n",
    "\n"
   ]
  },
  {
   "cell_type": "code",
   "execution_count": 22,
   "metadata": {},
   "outputs": [
    {
     "name": "stdout",
     "output_type": "stream",
     "text": [
      "scroll sayısını girin = 2\n"
     ]
    }
   ],
   "source": [
    "veri_cek()"
   ]
  },
  {
   "cell_type": "code",
   "execution_count": 23,
   "metadata": {},
   "outputs": [],
   "source": [
    "import pandas as pd"
   ]
  },
  {
   "cell_type": "code",
   "execution_count": 25,
   "metadata": {},
   "outputs": [],
   "source": [
    "ss = pd.read_csv(\"tweetler.csv\")"
   ]
  },
  {
   "cell_type": "code",
   "execution_count": 26,
   "metadata": {},
   "outputs": [],
   "source": [
    "ss.to_excel(\"tweetler_excel.xlsx\")"
   ]
  },
  {
   "cell_type": "code",
   "execution_count": null,
   "metadata": {},
   "outputs": [],
   "source": []
  },
  {
   "cell_type": "code",
   "execution_count": null,
   "metadata": {},
   "outputs": [],
   "source": []
  }
 ],
 "metadata": {
  "kernelspec": {
   "display_name": "Python 3",
   "language": "python",
   "name": "python3"
  },
  "language_info": {
   "codemirror_mode": {
    "name": "ipython",
    "version": 3
   },
   "file_extension": ".py",
   "mimetype": "text/x-python",
   "name": "python",
   "nbconvert_exporter": "python",
   "pygments_lexer": "ipython3",
   "version": "3.7.4"
  }
 },
 "nbformat": 4,
 "nbformat_minor": 2
}
